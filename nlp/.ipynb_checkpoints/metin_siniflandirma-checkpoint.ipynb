{
 "cells": [
  {
   "cell_type": "code",
   "execution_count": 4,
   "id": "8b5ffe7e-07a0-4c06-b7d3-f82f1e2e9f7d",
   "metadata": {},
   "outputs": [
    {
     "name": "stdout",
     "output_type": "stream",
     "text": [
      "Requirement already satisfied: matplotlib in c:\\users\\nida\\miniconda3\\lib\\site-packages (3.7.1)\n",
      "Requirement already satisfied: kiwisolver>=1.0.1 in c:\\users\\nida\\miniconda3\\lib\\site-packages (from matplotlib) (1.4.4)\n",
      "Requirement already satisfied: cycler>=0.10 in c:\\users\\nida\\miniconda3\\lib\\site-packages (from matplotlib) (0.11.0)\n",
      "Requirement already satisfied: fonttools>=4.22.0 in c:\\users\\nida\\miniconda3\\lib\\site-packages (from matplotlib) (4.39.4)\n",
      "Requirement already satisfied: packaging>=20.0 in c:\\users\\nida\\miniconda3\\lib\\site-packages (from matplotlib) (23.0)\n",
      "Requirement already satisfied: pillow>=6.2.0 in c:\\users\\nida\\miniconda3\\lib\\site-packages (from matplotlib) (9.5.0)\n",
      "Requirement already satisfied: python-dateutil>=2.7 in c:\\users\\nida\\miniconda3\\lib\\site-packages (from matplotlib) (2.8.2)\n",
      "Requirement already satisfied: contourpy>=1.0.1 in c:\\users\\nida\\miniconda3\\lib\\site-packages (from matplotlib) (1.0.7)\n",
      "Requirement already satisfied: numpy>=1.20 in c:\\users\\nida\\miniconda3\\lib\\site-packages (from matplotlib) (1.24.3)\n",
      "Requirement already satisfied: pyparsing>=2.3.1 in c:\\users\\nida\\miniconda3\\lib\\site-packages (from matplotlib) (3.0.9)\n",
      "Requirement already satisfied: six>=1.5 in c:\\users\\nida\\miniconda3\\lib\\site-packages (from python-dateutil>=2.7->matplotlib) (1.16.0)\n",
      "Note: you may need to restart the kernel to use updated packages.\n"
     ]
    }
   ],
   "source": [
    "pip install matplotlib"
   ]
  },
  {
   "cell_type": "code",
   "execution_count": 5,
   "id": "eec4c2eb-2841-4e8b-a2a1-8282ddbb3914",
   "metadata": {},
   "outputs": [],
   "source": [
    "import pandas as pd\n",
    "import matplotlib.pyplot as plt\n",
    "import on_islem\n",
    "from sklearn.model_selection import train_test_split\n",
    "from sklearn.svm import LinearSVC\n",
    "from sklearn.pipeline import Pipeline\n",
    "from sklearn.feature_extraction.text import TfidfVectorizer\n",
    "from sklearn.metrics import f1_score, accuracy_score, ConfusionMatrixDisplay, confusion_matrix\n",
    "from gensim.models import Word2Vec\n",
    "from sklearn.neighbors import KNeighborsClassifier"
   ]
  },
  {
   "cell_type": "code",
   "execution_count": 7,
   "id": "cbefec21-53ce-4843-9045-a95661299485",
   "metadata": {},
   "outputs": [
    {
     "data": {
      "text/html": [
       "<div>\n",
       "<style scoped>\n",
       "    .dataframe tbody tr th:only-of-type {\n",
       "        vertical-align: middle;\n",
       "    }\n",
       "\n",
       "    .dataframe tbody tr th {\n",
       "        vertical-align: top;\n",
       "    }\n",
       "\n",
       "    .dataframe thead th {\n",
       "        text-align: right;\n",
       "    }\n",
       "</style>\n",
       "<table border=\"1\" class=\"dataframe\">\n",
       "  <thead>\n",
       "    <tr style=\"text-align: right;\">\n",
       "      <th></th>\n",
       "      <th>Text</th>\n",
       "      <th>Label</th>\n",
       "      <th>Text_2</th>\n",
       "      <th>Text_3</th>\n",
       "    </tr>\n",
       "  </thead>\n",
       "  <tbody>\n",
       "    <tr>\n",
       "      <th>0</th>\n",
       "      <td>Allah'ım çıldıracağım. Yemin ederim çıldıracağ...</td>\n",
       "      <td>kızgın</td>\n",
       "      <td>[allah, çıldıracağım, ye, eder, çıldıracak, si...</td>\n",
       "      <td>allah çıldıracağım ye eder çıldıracak sinirimd...</td>\n",
       "    </tr>\n",
       "    <tr>\n",
       "      <th>1</th>\n",
       "      <td>site ne zaman çalıştıda ürün stokları bitti di...</td>\n",
       "      <td>kızgın</td>\n",
       "      <td>[si, ne, zama, çalıştı, ür, stok, bit, diyor, ...</td>\n",
       "      <td>si ne zama çalıştı ür stok bit diyor mal mı oğ...</td>\n",
       "    </tr>\n",
       "    <tr>\n",
       "      <th>2</th>\n",
       "      <td>Sebebi neydi ki diye bağıracağım şimdi az kaldı</td>\n",
       "      <td>kızgın</td>\n",
       "      <td>[sebep, ne, ki, di, bağıracak, az, kal]</td>\n",
       "      <td>sebep ne ki di bağıracak az kal</td>\n",
       "    </tr>\n",
       "    <tr>\n",
       "      <th>3</th>\n",
       "      <td>Black friday ne amk bu yıl çıkardınız bu bokud...</td>\n",
       "      <td>kızgın</td>\n",
       "      <td>[black, friday, ne, amk, bu, yıl, çıkar, bu, b...</td>\n",
       "      <td>black friday ne amk bu yıl çıkar bu boku mal m...</td>\n",
       "    </tr>\n",
       "    <tr>\n",
       "      <th>4</th>\n",
       "      <td>kısa kısa cevaplar vericeksen niye yazıyorsun ...</td>\n",
       "      <td>kızgın</td>\n",
       "      <td>[kıs, kıs, cevap, vericek, ni, yazıyor, gerize...</td>\n",
       "      <td>kıs kıs cevap vericek ni yazıyor gerizekal</td>\n",
       "    </tr>\n",
       "  </tbody>\n",
       "</table>\n",
       "</div>"
      ],
      "text/plain": [
       "                                                Text   Label  \\\n",
       "0  Allah'ım çıldıracağım. Yemin ederim çıldıracağ...  kızgın   \n",
       "1  site ne zaman çalıştıda ürün stokları bitti di...  kızgın   \n",
       "2    Sebebi neydi ki diye bağıracağım şimdi az kaldı  kızgın   \n",
       "3  Black friday ne amk bu yıl çıkardınız bu bokud...  kızgın   \n",
       "4  kısa kısa cevaplar vericeksen niye yazıyorsun ...  kızgın   \n",
       "\n",
       "                                              Text_2  \\\n",
       "0  [allah, çıldıracağım, ye, eder, çıldıracak, si...   \n",
       "1  [si, ne, zama, çalıştı, ür, stok, bit, diyor, ...   \n",
       "2            [sebep, ne, ki, di, bağıracak, az, kal]   \n",
       "3  [black, friday, ne, amk, bu, yıl, çıkar, bu, b...   \n",
       "4  [kıs, kıs, cevap, vericek, ni, yazıyor, gerize...   \n",
       "\n",
       "                                              Text_3  \n",
       "0  allah çıldıracağım ye eder çıldıracak sinirimd...  \n",
       "1  si ne zama çalıştı ür stok bit diyor mal mı oğ...  \n",
       "2                    sebep ne ki di bağıracak az kal  \n",
       "3  black friday ne amk bu yıl çıkar bu boku mal m...  \n",
       "4         kıs kıs cevap vericek ni yazıyor gerizekal  "
      ]
     },
     "execution_count": 7,
     "metadata": {},
     "output_type": "execute_result"
    }
   ],
   "source": [
    "df = pd.read_csv(\"../data/metin_siniflandirma.csv\", index_col=0)\n",
    "df[\"Text_2\"] = df[\"Text\"].apply(on_islem.pre_processing)\n",
    "df[\"Text_2\"] = df[\"Text_2\"].apply(on_islem.remove_space)\n",
    "df[\"Text_3\"] = [' '.join(wrd for wrd in x)for x in df[\"Text_2\"]]\n",
    "\n",
    "df_index = df[df[\"Text_2\"].str[0].isnull()].index\n",
    "df = df.drop(df_index)\n",
    "df = df.reset_index()\n",
    "del df[\"index\"]\n",
    "df.head()"
   ]
  },
  {
   "cell_type": "code",
   "execution_count": 8,
   "id": "97739a06-2776-415b-91e1-8c5ae061fc29",
   "metadata": {},
   "outputs": [
    {
     "data": {
      "text/plain": [
       "Label\n",
       "korku      800\n",
       "kızgın     799\n",
       "mutlu      800\n",
       "surpriz    800\n",
       "üzgün      799\n",
       "dtype: int64"
      ]
     },
     "execution_count": 8,
     "metadata": {},
     "output_type": "execute_result"
    }
   ],
   "source": [
    "df.groupby(\"Label\").size()"
   ]
  },
  {
   "cell_type": "code",
   "execution_count": 9,
   "id": "3dd7c9c1-d530-43d0-9b14-fd921d7b689b",
   "metadata": {},
   "outputs": [],
   "source": [
    "from sklearn.model_selection import train_test_split"
   ]
  },
  {
   "cell_type": "code",
   "execution_count": 10,
   "id": "b7f1a2d8-302e-4b56-92dd-a8a54143b013",
   "metadata": {},
   "outputs": [],
   "source": [
    "msg_train,msg_test,label_train,label_test =train_test_split(df[\"Text_3\"].tolist(), df[\"Label\"].tolist(), test_size=0.2, random_state=42)\n"
   ]
  },
  {
   "cell_type": "code",
   "execution_count": 11,
   "id": "3310b960-1582-4026-9df0-4c8a2d2b2888",
   "metadata": {},
   "outputs": [
    {
     "data": {
      "text/plain": [
       "800"
      ]
     },
     "execution_count": 11,
     "metadata": {},
     "output_type": "execute_result"
    }
   ],
   "source": [
    "len(msg_test)"
   ]
  },
  {
   "cell_type": "code",
   "execution_count": 12,
   "id": "b8a50d65-7ad2-48b5-a2e7-c2f003efc79c",
   "metadata": {},
   "outputs": [
    {
     "data": {
      "text/plain": [
       "3198"
      ]
     },
     "execution_count": 12,
     "metadata": {},
     "output_type": "execute_result"
    }
   ],
   "source": [
    "len(msg_train)"
   ]
  },
  {
   "cell_type": "code",
   "execution_count": 13,
   "id": "1a63a011-d490-4a38-acb2-a143eef290b7",
   "metadata": {},
   "outputs": [
    {
     "data": {
      "text/plain": [
       "3198"
      ]
     },
     "execution_count": 13,
     "metadata": {},
     "output_type": "execute_result"
    }
   ],
   "source": [
    "len(label_train)"
   ]
  },
  {
   "cell_type": "code",
   "execution_count": 14,
   "id": "d4cb980f-3c79-4447-b7ce-5f5b7b8612da",
   "metadata": {},
   "outputs": [
    {
     "data": {
      "text/plain": [
       "800"
      ]
     },
     "execution_count": 14,
     "metadata": {},
     "output_type": "execute_result"
    }
   ],
   "source": [
    "len(label_test)"
   ]
  },
  {
   "cell_type": "code",
   "execution_count": 15,
   "id": "3ff017ad-9e5e-4672-8227-cb29cf9c88bb",
   "metadata": {},
   "outputs": [
    {
     "data": {
      "text/plain": [
       "Label\n",
       "korku      164\n",
       "kızgın     169\n",
       "mutlu      160\n",
       "surpriz    155\n",
       "üzgün      152\n",
       "dtype: int64"
      ]
     },
     "execution_count": 15,
     "metadata": {},
     "output_type": "execute_result"
    }
   ],
   "source": [
    "df_test = pd.DataFrame({\"Text\":msg_test, \"Label\":label_test})\n",
    "df_test.groupby(\"Label\").size()"
   ]
  },
  {
   "cell_type": "code",
   "execution_count": 16,
   "id": "23f39c55-6bac-4472-a5c7-195b4cac3d99",
   "metadata": {},
   "outputs": [],
   "source": [
    "from sklearn.feature_extraction.text import TfidfVectorizer\n",
    "from sklearn.svm import LinearSVC\n",
    "from sklearn.pipeline import Pipeline"
   ]
  },
  {
   "cell_type": "code",
   "execution_count": 17,
   "id": "4a264236-1052-4fd7-a0a1-a7d262d2326d",
   "metadata": {},
   "outputs": [],
   "source": [
    "svm = Pipeline([('vect', TfidfVectorizer()), ('svm', LinearSVC())])"
   ]
  },
  {
   "cell_type": "code",
   "execution_count": 18,
   "id": "ab4eeaf4-250d-41d5-a4f4-621ac37ee70b",
   "metadata": {},
   "outputs": [],
   "source": [
    "svm.fit(msg_train,label_train)\n",
    "y_pred_class=svm.predict(msg_test)"
   ]
  },
  {
   "cell_type": "code",
   "execution_count": 19,
   "id": "81f5f7d9-fdc8-4aa6-a186-4174fa838f37",
   "metadata": {},
   "outputs": [],
   "source": [
    "from sklearn.metrics import f1_score,accuracy_score"
   ]
  },
  {
   "cell_type": "code",
   "execution_count": 20,
   "id": "b70a7e53-04fb-4814-9789-58df3602a324",
   "metadata": {},
   "outputs": [
    {
     "name": "stdout",
     "output_type": "stream",
     "text": [
      "svm accuracy score: 0.97875\n"
     ]
    }
   ],
   "source": [
    "print(\"svm accuracy score:\", accuracy_score(label_test,y_pred_class))"
   ]
  },
  {
   "cell_type": "code",
   "execution_count": 21,
   "id": "085f1ccb-d78b-4f1f-8f65-5593642c1f22",
   "metadata": {},
   "outputs": [
    {
     "name": "stdout",
     "output_type": "stream",
     "text": [
      "svm accuracy score: 0.978753409490388\n"
     ]
    }
   ],
   "source": [
    "print(\"svm accuracy score:\", f1_score(label_test,y_pred_class,average=\"weighted\"))"
   ]
  },
  {
   "cell_type": "code",
   "execution_count": 22,
   "id": "19af09c9-f786-448a-b60c-c9b30b691dd8",
   "metadata": {},
   "outputs": [
    {
     "data": {
      "text/plain": [
       "800"
      ]
     },
     "execution_count": 22,
     "metadata": {},
     "output_type": "execute_result"
    }
   ],
   "source": [
    "len(label_test)"
   ]
  },
  {
   "cell_type": "code",
   "execution_count": 23,
   "id": "f1bc9820-aa14-4c56-ac23-19585940a9b6",
   "metadata": {},
   "outputs": [
    {
     "data": {
      "text/plain": [
       "784.0"
      ]
     },
     "execution_count": 23,
     "metadata": {},
     "output_type": "execute_result"
    }
   ],
   "source": [
    "800*0.98"
   ]
  },
  {
   "cell_type": "code",
   "execution_count": 24,
   "id": "fab2caa5-ed5b-4af7-9e4f-2012768e3778",
   "metadata": {},
   "outputs": [
    {
     "data": {
      "text/plain": [
       "<sklearn.metrics._plot.confusion_matrix.ConfusionMatrixDisplay at 0x1e2580b82e0>"
      ]
     },
     "execution_count": 24,
     "metadata": {},
     "output_type": "execute_result"
    },
    {
     "data": {
      "image/png": "[encoded data removed]",
      "text/plain": [
       "<Figure size 640x480 with 2 Axes>"
      ]
     },
     "metadata": {},
     "output_type": "display_data"
    }
   ],
   "source": [
    "import matplotlib.pyplot as plt\n",
    "cm = confusion_matrix(label_test,y_pred_class, labels=svm.classes_)\n",
    "disp = ConfusionMatrixDisplay(confusion_matrix=cm, display_labels=svm.classes_)\n",
    "disp.plot()"
   ]
  },
  {
   "cell_type": "code",
   "execution_count": 26,
   "id": "528212b1-3a52-4d75-a51f-8a528a6f79b8",
   "metadata": {},
   "outputs": [
    {
     "data": {
      "text/plain": [
       "array(['üzgün'], dtype='<U7')"
      ]
     },
     "execution_count": 26,
     "metadata": {},
     "output_type": "execute_result"
    }
   ],
   "source": [
    "#örnek veri testi\n",
    "msg_test_2=[\"ben biraz kötü gibiyim\"]\n",
    "y_pred_class = svm.predict(msg_test_2)\n",
    "y_pred_class"
   ]
  },
  {
   "cell_type": "code",
   "execution_count": 29,
   "id": "4f415c58-5dad-423e-a8a7-9e41aeedaf41",
   "metadata": {},
   "outputs": [],
   "source": [
    "model = Word2Vec.load(\"../data/word2vec.model\")\n",
    "model.build_vocab(df[\"Text_2\"].tolist(),update=True)\n",
    "model.save(\"../data/word2vec.model\")"
   ]
  },
  {
   "cell_type": "code",
   "execution_count": null,
   "id": "d63006c5-148f-4b92-9be8-715c2e1798a5",
   "metadata": {},
   "outputs": [],
   "source": [
    "df[\"word2vec\"] = df[\"Text_2\"].apply(on_islem.word2vec)"
   ]
  },
  {
   "cell_type": "code",
   "execution_count": null,
   "id": "8965731f-e9ca-4bef-8b28-35f9d95bcb7d",
   "metadata": {},
   "outputs": [],
   "source": [
    "df.head()"
   ]
  },
  {
   "cell_type": "code",
   "execution_count": null,
   "id": "186fd437-91c9-4147-ba5b-9a50c4841113",
   "metadata": {},
   "outputs": [],
   "source": [
    "msg_train, msg_test, label_train, label_test = train_test_split(df[\"word2vec\"].tolist(), df[\"Label\"].tolist(), test_size=0.2, random_state=42)\n",
    "svm = Pipeline([('svm',LinearSVC())])\n",
    "svm.fit(msg_train,label_train)\n",
    "y_pred_class = svm.predict(msg_test)\n",
    "\n",
    "print(\"svm accuracy score:\", accuracy_score(label_test,y_pred_class))\n",
    "print(\"svm accuracy score:\", f1_score(label_test,y_pred_class,average=\"weighted\"))"
   ]
  },
  {
   "cell_type": "code",
   "execution_count": null,
   "id": "8c58196e-7a93-46ab-86ff-979a6c35cb93",
   "metadata": {},
   "outputs": [],
   "source": []
  }
 ],
 "metadata": {
  "kernelspec": {
   "display_name": "Python 3 (ipykernel)",
   "language": "python",
   "name": "python3"
  },
  "language_info": {
   "codemirror_mode": {
    "name": "ipython",
    "version": 3
   },
   "file_extension": ".py",
   "mimetype": "text/x-python",
   "name": "python",
   "nbconvert_exporter": "python",
   "pygments_lexer": "ipython3",
   "version": "3.10.10"
  }
 },
 "nbformat": 4,
 "nbformat_minor": 5
}
