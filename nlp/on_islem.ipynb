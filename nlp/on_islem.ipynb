{
 "cells": [
  {
   "cell_type": "code",
   "execution_count": 1,
   "id": "340694f9-17af-4f35-9771-916168e2ebb0",
   "metadata": {},
   "outputs": [],
   "source": [
    "# ÖN İŞLEM"
   ]
  },
  {
   "cell_type": "code",
   "execution_count": 8,
   "id": "546b92c1-ab28-434f-bc1e-09e6328cac97",
   "metadata": {},
   "outputs": [],
   "source": [
    "text= open(\"data/nlp.txt\",\"r\")\n"
   ]
  },
  {
   "cell_type": "code",
   "execution_count": 9,
   "id": "597b90f8-e6dc-4de3-bbf0-6059093934fb",
   "metadata": {},
   "outputs": [],
   "source": [
    "nlp=text.read()"
   ]
  },
  {
   "cell_type": "code",
   "execution_count": 10,
   "id": "5142a641-b333-494a-8f42-bc25c54e45f1",
   "metadata": {},
   "outputs": [
    {
     "data": {
      "text/plain": [
       "'metinnnnnn'"
      ]
     },
     "execution_count": 10,
     "metadata": {},
     "output_type": "execute_result"
    }
   ],
   "source": [
    "nlp"
   ]
  },
  {
   "cell_type": "code",
   "execution_count": 58,
   "id": "3214241a-13f6-42ca-9b75-f557e63210d0",
   "metadata": {},
   "outputs": [],
   "source": [
    "import pandas as pd"
   ]
  },
  {
   "cell_type": "code",
   "execution_count": 59,
   "id": "6da64b09-07f9-4a38-9f5a-6176e86b05bf",
   "metadata": {},
   "outputs": [],
   "source": [
    "df=pd.read_csv(\"data/nlp.csv\",index_col=0)"
   ]
  },
  {
   "cell_type": "code",
   "execution_count": 60,
   "id": "27751f98-4878-481d-a0f6-75ba6d8818e5",
   "metadata": {},
   "outputs": [
    {
     "data": {
      "text/html": [
       "<div>\n",
       "<style scoped>\n",
       "    .dataframe tbody tr th:only-of-type {\n",
       "        vertical-align: middle;\n",
       "    }\n",
       "\n",
       "    .dataframe tbody tr th {\n",
       "        vertical-align: top;\n",
       "    }\n",
       "\n",
       "    .dataframe thead th {\n",
       "        text-align: right;\n",
       "    }\n",
       "</style>\n",
       "<table border=\"1\" class=\"dataframe\">\n",
       "  <thead>\n",
       "    <tr style=\"text-align: right;\">\n",
       "      <th></th>\n",
       "      <th>Text</th>\n",
       "    </tr>\n",
       "  </thead>\n",
       "  <tbody>\n",
       "    <tr>\n",
       "      <th>0</th>\n",
       "      <td>Yapay Zeka Nedir, Ne İşe Yarar?\\n\\nYapay zeka ...</td>\n",
       "    </tr>\n",
       "    <tr>\n",
       "      <th>1</th>\n",
       "      <td>🔎 Verilerinizi analiz edin: \\nChatGPT'yi kulla...</td>\n",
       "    </tr>\n",
       "    <tr>\n",
       "      <th>2</th>\n",
       "      <td>Öncelikle yapay zekanın ne olduğunu, #dijitala...</td>\n",
       "    </tr>\n",
       "    <tr>\n",
       "      <th>3</th>\n",
       "      <td>9. Baidu Research: Çin'in önde gelen arama mot...</td>\n",
       "    </tr>\n",
       "    <tr>\n",
       "      <th>4</th>\n",
       "      <td>4. Microsoft AI: Microsoft'un yapay zeka tekno...</td>\n",
       "    </tr>\n",
       "    <tr>\n",
       "      <th>...</th>\n",
       "      <td>...</td>\n",
       "    </tr>\n",
       "    <tr>\n",
       "      <th>853</th>\n",
       "      <td>doğal dil işleme alanında yüksek lisans-doktor...</td>\n",
       "    </tr>\n",
       "    <tr>\n",
       "      <th>854</th>\n",
       "      <td>dogal dil isleme şeyleri</td>\n",
       "    </tr>\n",
       "    <tr>\n",
       "      <th>855</th>\n",
       "      <td>Bir veri madenciliği ve doğal dil işleme uygul...</td>\n",
       "    </tr>\n",
       "    <tr>\n",
       "      <th>856</th>\n",
       "      <td>\"Doğal dil işleme\" ile ilgili deneyimi olan ya...</td>\n",
       "    </tr>\n",
       "    <tr>\n",
       "      <th>857</th>\n",
       "      <td>Haftaya öğrencilik hayatıma kaldığım yerden de...</td>\n",
       "    </tr>\n",
       "  </tbody>\n",
       "</table>\n",
       "<p>858 rows × 1 columns</p>\n",
       "</div>"
      ],
      "text/plain": [
       "                                                  Text\n",
       "0    Yapay Zeka Nedir, Ne İşe Yarar?\\n\\nYapay zeka ...\n",
       "1    🔎 Verilerinizi analiz edin: \\nChatGPT'yi kulla...\n",
       "2    Öncelikle yapay zekanın ne olduğunu, #dijitala...\n",
       "3    9. Baidu Research: Çin'in önde gelen arama mot...\n",
       "4    4. Microsoft AI: Microsoft'un yapay zeka tekno...\n",
       "..                                                 ...\n",
       "853  doğal dil işleme alanında yüksek lisans-doktor...\n",
       "854                           dogal dil isleme şeyleri\n",
       "855  Bir veri madenciliği ve doğal dil işleme uygul...\n",
       "856  \"Doğal dil işleme\" ile ilgili deneyimi olan ya...\n",
       "857  Haftaya öğrencilik hayatıma kaldığım yerden de...\n",
       "\n",
       "[858 rows x 1 columns]"
      ]
     },
     "execution_count": 60,
     "metadata": {},
     "output_type": "execute_result"
    }
   ],
   "source": [
    "df"
   ]
  },
  {
   "cell_type": "code",
   "execution_count": 18,
   "id": "c3ec3cba-cf67-4325-93b0-325d8d5e814f",
   "metadata": {},
   "outputs": [
    {
     "data": {
      "text/html": [
       "<div>\n",
       "<style scoped>\n",
       "    .dataframe tbody tr th:only-of-type {\n",
       "        vertical-align: middle;\n",
       "    }\n",
       "\n",
       "    .dataframe tbody tr th {\n",
       "        vertical-align: top;\n",
       "    }\n",
       "\n",
       "    .dataframe thead th {\n",
       "        text-align: right;\n",
       "    }\n",
       "</style>\n",
       "<table border=\"1\" class=\"dataframe\">\n",
       "  <thead>\n",
       "    <tr style=\"text-align: right;\">\n",
       "      <th></th>\n",
       "      <th>Text</th>\n",
       "    </tr>\n",
       "  </thead>\n",
       "  <tbody>\n",
       "    <tr>\n",
       "      <th>0</th>\n",
       "      <td>Yapay Zeka Nedir, Ne İşe Yarar?\\n\\nYapay zeka ...</td>\n",
       "    </tr>\n",
       "    <tr>\n",
       "      <th>1</th>\n",
       "      <td>🔎 Verilerinizi analiz edin: \\nChatGPT'yi kulla...</td>\n",
       "    </tr>\n",
       "    <tr>\n",
       "      <th>2</th>\n",
       "      <td>Öncelikle yapay zekanın ne olduğunu, #dijitala...</td>\n",
       "    </tr>\n",
       "    <tr>\n",
       "      <th>3</th>\n",
       "      <td>9. Baidu Research: Çin'in önde gelen arama mot...</td>\n",
       "    </tr>\n",
       "    <tr>\n",
       "      <th>4</th>\n",
       "      <td>4. Microsoft AI: Microsoft'un yapay zeka tekno...</td>\n",
       "    </tr>\n",
       "  </tbody>\n",
       "</table>\n",
       "</div>"
      ],
      "text/plain": [
       "                                                Text\n",
       "0  Yapay Zeka Nedir, Ne İşe Yarar?\\n\\nYapay zeka ...\n",
       "1  🔎 Verilerinizi analiz edin: \\nChatGPT'yi kulla...\n",
       "2  Öncelikle yapay zekanın ne olduğunu, #dijitala...\n",
       "3  9. Baidu Research: Çin'in önde gelen arama mot...\n",
       "4  4. Microsoft AI: Microsoft'un yapay zeka tekno..."
      ]
     },
     "execution_count": 18,
     "metadata": {},
     "output_type": "execute_result"
    }
   ],
   "source": [
    "df.head()"
   ]
  },
  {
   "cell_type": "code",
   "execution_count": 19,
   "id": "3c10c7fe-c059-4ea2-94d2-d9ee67e1389d",
   "metadata": {},
   "outputs": [
    {
     "data": {
      "text/html": [
       "<div>\n",
       "<style scoped>\n",
       "    .dataframe tbody tr th:only-of-type {\n",
       "        vertical-align: middle;\n",
       "    }\n",
       "\n",
       "    .dataframe tbody tr th {\n",
       "        vertical-align: top;\n",
       "    }\n",
       "\n",
       "    .dataframe thead th {\n",
       "        text-align: right;\n",
       "    }\n",
       "</style>\n",
       "<table border=\"1\" class=\"dataframe\">\n",
       "  <thead>\n",
       "    <tr style=\"text-align: right;\">\n",
       "      <th></th>\n",
       "      <th>Text</th>\n",
       "    </tr>\n",
       "  </thead>\n",
       "  <tbody>\n",
       "    <tr>\n",
       "      <th>853</th>\n",
       "      <td>doğal dil işleme alanında yüksek lisans-doktor...</td>\n",
       "    </tr>\n",
       "    <tr>\n",
       "      <th>854</th>\n",
       "      <td>dogal dil isleme şeyleri</td>\n",
       "    </tr>\n",
       "    <tr>\n",
       "      <th>855</th>\n",
       "      <td>Bir veri madenciliği ve doğal dil işleme uygul...</td>\n",
       "    </tr>\n",
       "    <tr>\n",
       "      <th>856</th>\n",
       "      <td>\"Doğal dil işleme\" ile ilgili deneyimi olan ya...</td>\n",
       "    </tr>\n",
       "    <tr>\n",
       "      <th>857</th>\n",
       "      <td>Haftaya öğrencilik hayatıma kaldığım yerden de...</td>\n",
       "    </tr>\n",
       "  </tbody>\n",
       "</table>\n",
       "</div>"
      ],
      "text/plain": [
       "                                                  Text\n",
       "853  doğal dil işleme alanında yüksek lisans-doktor...\n",
       "854                           dogal dil isleme şeyleri\n",
       "855  Bir veri madenciliği ve doğal dil işleme uygul...\n",
       "856  \"Doğal dil işleme\" ile ilgili deneyimi olan ya...\n",
       "857  Haftaya öğrencilik hayatıma kaldığım yerden de..."
      ]
     },
     "execution_count": 19,
     "metadata": {},
     "output_type": "execute_result"
    }
   ],
   "source": [
    "df.tail()"
   ]
  },
  {
   "cell_type": "code",
   "execution_count": 25,
   "id": "091efc35-70a7-4ed9-b985-7977a4be6f86",
   "metadata": {},
   "outputs": [
    {
     "data": {
      "text/plain": [
       "'\"Yapay zeka dünyası hızla gelişiyor! Son zamanlarda, GPT-3, BERT ve benzeri doğal dil işleme modelleri ile daha da popüler hale geldi. Bu modeller, insanlar tarafından üretilen metinleri analiz ederek, dilin yapısını ve anlamını kavrayabiliyorlar.'"
      ]
     },
     "execution_count": 25,
     "metadata": {},
     "output_type": "execute_result"
    }
   ],
   "source": [
    "df.loc[100,\"Text\"]"
   ]
  },
  {
   "cell_type": "code",
   "execution_count": 95,
   "id": "c067b26e-4fd2-4c95-b5ba-252df253bd98",
   "metadata": {},
   "outputs": [
    {
     "data": {
      "text/plain": [
       "'Nida Cakmak '"
      ]
     },
     "execution_count": 95,
     "metadata": {},
     "output_type": "execute_result"
    }
   ],
   "source": [
    "# sayısal değerlerin kaldırılması\n",
    "def remove_numeric(value):\n",
    "    bfr= [item for item in value if not item.isdigit()]\n",
    "    bfr=\"\".join(bfr)\n",
    "    return bfr\n",
    "\n",
    "text=\"Nida Cakmak 123\"\n",
    "remove_numeric(text)"
   ]
  },
  {
   "cell_type": "code",
   "execution_count": 30,
   "id": "dc2b751d-6531-46e6-96fa-89384accfcc1",
   "metadata": {},
   "outputs": [],
   "source": [
    "import re"
   ]
  },
  {
   "cell_type": "code",
   "execution_count": 32,
   "id": "727fc21c-a959-4adf-96dd-d605777bba43",
   "metadata": {},
   "outputs": [
    {
     "data": {
      "text/plain": [
       "'Nida Cakmak '"
      ]
     },
     "execution_count": 32,
     "metadata": {},
     "output_type": "execute_result"
    }
   ],
   "source": [
    "#emojilerin kaldırılması\n",
    "def remove_emoji(value):\n",
    "    bfr=re.compile(\"[\\U00010000-\\U0010ffff]\", flags=re.UNICODE)\n",
    "    bfr=bfr.sub(f'',value)\n",
    "    return bfr\n",
    "\n",
    "text=\"Nida Cakmak 🔎\"\n",
    "remove_emoji(text)\n",
    "    "
   ]
  },
  {
   "cell_type": "code",
   "execution_count": 33,
   "id": "c2c2981c-4515-46b6-bea5-40b284f84c2a",
   "metadata": {},
   "outputs": [
    {
     "data": {
      "text/plain": [
       "'Nida Cakmak'"
      ]
     },
     "execution_count": 33,
     "metadata": {},
     "output_type": "execute_result"
    }
   ],
   "source": [
    "#tek karakterli ifadelerin kaldırılması\n",
    "def remove_single_character(value):\n",
    "    return re.sub(r'(?:^| )\\w(?:$| )','',value)\n",
    "text=\"Nida Cakmak h\"\n",
    "remove_single_character(text)"
   ]
  },
  {
   "cell_type": "code",
   "execution_count": 96,
   "id": "c3f52f6c-4268-43fc-8f30-9f4262951b96",
   "metadata": {},
   "outputs": [
    {
     "data": {
      "text/plain": [
       "'Nida Cakmak '"
      ]
     },
     "execution_count": 96,
     "metadata": {},
     "output_type": "execute_result"
    }
   ],
   "source": [
    "#noktalama işaretlerinin kaldırılması\n",
    "def remove_noktalama(value):\n",
    "    return re.sub(r'[^\\w\\s]','',value)\n",
    "\n",
    "text= \"Nida Cakmak .\"\n",
    "remove_noktalama(text)"
   ]
  },
  {
   "cell_type": "code",
   "execution_count": 35,
   "id": "a971a399-992f-4e1a-8d6c-dd74feb8358e",
   "metadata": {},
   "outputs": [
    {
     "data": {
      "text/plain": [
       "'Nida '"
      ]
     },
     "execution_count": 35,
     "metadata": {},
     "output_type": "execute_result"
    }
   ],
   "source": [
    "#linklerin kaldırılması\n",
    "def remove_link(value):\n",
    "    return re.sub('((www\\.[^\\s]+)|(https?://[^\\s]+))','',value)\n",
    "\n",
    "text= \"Nida https://www.nedir.com/wikipedia\"\n",
    "remove_link(text)"
   ]
  },
  {
   "cell_type": "code",
   "execution_count": 36,
   "id": "d208940a-dfa7-4857-8ec2-ae22eaaa2364",
   "metadata": {},
   "outputs": [
    {
     "data": {
      "text/plain": [
       "'Nida '"
      ]
     },
     "execution_count": 36,
     "metadata": {},
     "output_type": "execute_result"
    }
   ],
   "source": [
    "#hashtaglerin kaldırılması\n",
    "def remove_hashtag(value):\n",
    "    return re.sub(r'#[^\\s]+','',value)\n",
    "\n",
    "text= \"Nida #nlp\"\n",
    "remove_hashtag(text)"
   ]
  },
  {
   "cell_type": "code",
   "execution_count": 39,
   "id": "c992bc59-974b-4ce5-8957-4c6dcce5bd3f",
   "metadata": {},
   "outputs": [
    {
     "data": {
      "text/plain": [
       "'Nida '"
      ]
     },
     "execution_count": 39,
     "metadata": {},
     "output_type": "execute_result"
    }
   ],
   "source": [
    "#kullanıcı adlarının kaldırılması\n",
    "def remove_username(value):\n",
    "    return re.sub('@[^\\s]+','',value)\n",
    "\n",
    "text=\"Nida @nidackmk\"\n",
    "remove_username(text)"
   ]
  },
  {
   "cell_type": "code",
   "execution_count": 54,
   "id": "74004e5c-354f-4900-b33a-ec67ece3dc1a",
   "metadata": {},
   "outputs": [
    {
     "name": "stdout",
     "output_type": "stream",
     "text": [
      "Requirement already satisfied: snowballstemmer in c:\\users\\nida\\miniconda3\\lib\\site-packages (2.2.0)\n",
      "Note: you may need to restart the kernel to use updated packages.\n"
     ]
    }
   ],
   "source": [
    "pip install snowballstemmer"
   ]
  },
  {
   "cell_type": "code",
   "execution_count": 78,
   "id": "f11c5f96-d610-4b37-8e78-c7a6187862f5",
   "metadata": {},
   "outputs": [
    {
     "data": {
      "text/plain": [
       "'acap hav güzel mi'"
      ]
     },
     "execution_count": 78,
     "metadata": {},
     "output_type": "execute_result"
    }
   ],
   "source": [
    "import snowballstemmer\n",
    "\n",
    "def stem_word(value):\n",
    "    stemmer=snowballstemmer.stemmer(\"turkish\")\n",
    "    value=value.lower()\n",
    "    value=stemmer.stemWords(value.split())\n",
    "    stop_words=['acaba','ama','aslında']\n",
    "    value= [item for item in value if not item in stop_words]\n",
    "    value=' '.join(value)\n",
    "    return value\n",
    "\n",
    "text=\"acaba hava güzel mi\"\n",
    "stem_word(text)"
   ]
  },
  {
   "cell_type": "code",
   "execution_count": 87,
   "id": "877bf5d6-f5f0-4b15-9332-7dafb47b2ae4",
   "metadata": {},
   "outputs": [],
   "source": [
    "def pre_processing(value):\n",
    "    return [remove_numeric(\n",
    "        remove_emoji(\n",
    "            remove_single_character(\n",
    "                remove_noktalama(\n",
    "                    remove_link(\n",
    "                        remove_hashtag(\n",
    "                            remove_username(\n",
    "                                stem_word(word)))))))) for word in value.split()]"
   ]
  },
  {
   "cell_type": "code",
   "execution_count": 88,
   "id": "5556966a-55a0-417f-947e-fb94259c0001",
   "metadata": {},
   "outputs": [],
   "source": [
    "df[\"Text_2\"]=df[\"Text\"].apply(pre_processing)"
   ]
  },
  {
   "cell_type": "code",
   "execution_count": 90,
   "id": "0693ca98-645d-471b-90cf-412c0c582fb1",
   "metadata": {},
   "outputs": [
    {
     "data": {
      "text/html": [
       "<div>\n",
       "<style scoped>\n",
       "    .dataframe tbody tr th:only-of-type {\n",
       "        vertical-align: middle;\n",
       "    }\n",
       "\n",
       "    .dataframe tbody tr th {\n",
       "        vertical-align: top;\n",
       "    }\n",
       "\n",
       "    .dataframe thead th {\n",
       "        text-align: right;\n",
       "    }\n",
       "</style>\n",
       "<table border=\"1\" class=\"dataframe\">\n",
       "  <thead>\n",
       "    <tr style=\"text-align: right;\">\n",
       "      <th></th>\n",
       "      <th>Text</th>\n",
       "      <th>Text2</th>\n",
       "      <th>Text_2</th>\n",
       "    </tr>\n",
       "  </thead>\n",
       "  <tbody>\n",
       "    <tr>\n",
       "      <th>0</th>\n",
       "      <td>Yapay Zeka Nedir, Ne İşe Yarar?\\n\\nYapay zeka ...</td>\n",
       "      <td>[yapay, zeka, nedir, ne, işe, yarar, yapay, ze...</td>\n",
       "      <td>[yapay, zeka, nedir, ne, işe, yarar, yapay, ze...</td>\n",
       "    </tr>\n",
       "    <tr>\n",
       "      <th>1</th>\n",
       "      <td>🔎 Verilerinizi analiz edin: \\nChatGPT'yi kulla...</td>\n",
       "      <td>[, veri, analiz, edin, chatgptyi, kullanarak, ...</td>\n",
       "      <td>[, veri, analiz, edin, chatgptyi, kullanarak, ...</td>\n",
       "    </tr>\n",
       "    <tr>\n",
       "      <th>2</th>\n",
       "      <td>Öncelikle yapay zekanın ne olduğunu, #dijitala...</td>\n",
       "      <td>[öncelik, yapay, zeka, ne, olduğunu, , iç, ne,...</td>\n",
       "      <td>[öncelik, yapay, zeka, ne, olduğunu, , iç, ne,...</td>\n",
       "    </tr>\n",
       "    <tr>\n",
       "      <th>3</th>\n",
       "      <td>9. Baidu Research: Çin'in önde gelen arama mot...</td>\n",
       "      <td>[, baidu, research, çin, ön, gele, ara, motor,...</td>\n",
       "      <td>[, baidu, research, çin, ön, gele, ara, motor,...</td>\n",
       "    </tr>\n",
       "    <tr>\n",
       "      <th>4</th>\n",
       "      <td>4. Microsoft AI: Microsoft'un yapay zeka tekno...</td>\n",
       "      <td>[, microsoft, ai, microsoft, yapay, zeka, tekn...</td>\n",
       "      <td>[, microsoft, ai, microsoft, yapay, zeka, tekn...</td>\n",
       "    </tr>\n",
       "  </tbody>\n",
       "</table>\n",
       "</div>"
      ],
      "text/plain": [
       "                                                Text  \\\n",
       "0  Yapay Zeka Nedir, Ne İşe Yarar?\\n\\nYapay zeka ...   \n",
       "1  🔎 Verilerinizi analiz edin: \\nChatGPT'yi kulla...   \n",
       "2  Öncelikle yapay zekanın ne olduğunu, #dijitala...   \n",
       "3  9. Baidu Research: Çin'in önde gelen arama mot...   \n",
       "4  4. Microsoft AI: Microsoft'un yapay zeka tekno...   \n",
       "\n",
       "                                               Text2  \\\n",
       "0  [yapay, zeka, nedir, ne, işe, yarar, yapay, ze...   \n",
       "1  [, veri, analiz, edin, chatgptyi, kullanarak, ...   \n",
       "2  [öncelik, yapay, zeka, ne, olduğunu, , iç, ne,...   \n",
       "3  [, baidu, research, çin, ön, gele, ara, motor,...   \n",
       "4  [, microsoft, ai, microsoft, yapay, zeka, tekn...   \n",
       "\n",
       "                                              Text_2  \n",
       "0  [yapay, zeka, nedir, ne, işe, yarar, yapay, ze...  \n",
       "1  [, veri, analiz, edin, chatgptyi, kullanarak, ...  \n",
       "2  [öncelik, yapay, zeka, ne, olduğunu, , iç, ne,...  \n",
       "3  [, baidu, research, çin, ön, gele, ara, motor,...  \n",
       "4  [, microsoft, ai, microsoft, yapay, zeka, tekn...  "
      ]
     },
     "execution_count": 90,
     "metadata": {},
     "output_type": "execute_result"
    }
   ],
   "source": [
    "df.head()"
   ]
  },
  {
   "cell_type": "code",
   "execution_count": 91,
   "id": "6beffba5-711a-49be-9b13-1446f9f72b9f",
   "metadata": {},
   "outputs": [
    {
     "data": {
      "text/plain": [
       "'Yapay Zeka Nedir, Ne İşe Yarar?\\n\\nYapay zeka (YZ) bilgisayarlar ve diğer cihazların, insan zekasına benzer şekilde düşünmesini, öğrenmesini, kararlar vermesini ve problem çözmesini sağlayan bir bilim dalıdır. Yapay zeka teknolojisi, doğal dil işleme, ses tanıma, görüntü işleme,… https://t.co/nDH7iGOdFe'"
      ]
     },
     "execution_count": 91,
     "metadata": {},
     "output_type": "execute_result"
    }
   ],
   "source": [
    "df.loc[0,\"Text\"]"
   ]
  },
  {
   "cell_type": "code",
   "execution_count": 92,
   "id": "771d38d2-bd45-493e-8df4-37eca4b966b4",
   "metadata": {},
   "outputs": [
    {
     "data": {
      "text/plain": [
       "['yapay',\n",
       " 'zeka',\n",
       " 'nedir',\n",
       " 'ne',\n",
       " 'işe',\n",
       " 'yarar',\n",
       " 'yapay',\n",
       " 'zeka',\n",
       " 'yz',\n",
       " 'bilgisayar',\n",
       " 've',\n",
       " 'diğer',\n",
       " 'cihazların',\n",
       " 'in',\n",
       " 'zeka',\n",
       " 'benzer',\n",
       " 'şekil',\n",
       " 'düşünmesini',\n",
       " 'öğrenmesini',\n",
       " 'karar',\n",
       " 'verme',\n",
       " 've',\n",
       " 'proble',\n",
       " 'çözme',\n",
       " 'sağlaya',\n",
       " 'bir',\n",
       " 'bil',\n",
       " 'dalıdır',\n",
       " 'yapay',\n",
       " 'zeka',\n",
       " 'teknolojisi',\n",
       " 'doğal',\n",
       " 'dil',\n",
       " 'işleme',\n",
       " 'ses',\n",
       " 'tanıma',\n",
       " 'gör',\n",
       " 'işleme',\n",
       " '']"
      ]
     },
     "execution_count": 92,
     "metadata": {},
     "output_type": "execute_result"
    }
   ],
   "source": [
    "df.loc[0,\"Text_2\"]"
   ]
  },
  {
   "cell_type": "code",
   "execution_count": 93,
   "id": "fba940fe-e1d6-4fa3-a885-527e31865ffe",
   "metadata": {},
   "outputs": [],
   "source": [
    "#boşlukların kaldırılması\n",
    "\n",
    "def remove_space(value):\n",
    "    return [item for item in value if item.strip()]\n",
    "    \n",
    "df[\"Text_2\"]=df[\"Text_2\"].apply(remove_space)"
   ]
  },
  {
   "cell_type": "code",
   "execution_count": 94,
   "id": "794a74a7-4764-4524-b16e-d0877e19f8c2",
   "metadata": {},
   "outputs": [
    {
     "data": {
      "text/plain": [
       "['yapay',\n",
       " 'zeka',\n",
       " 'nedir',\n",
       " 'ne',\n",
       " 'işe',\n",
       " 'yarar',\n",
       " 'yapay',\n",
       " 'zeka',\n",
       " 'yz',\n",
       " 'bilgisayar',\n",
       " 've',\n",
       " 'diğer',\n",
       " 'cihazların',\n",
       " 'in',\n",
       " 'zeka',\n",
       " 'benzer',\n",
       " 'şekil',\n",
       " 'düşünmesini',\n",
       " 'öğrenmesini',\n",
       " 'karar',\n",
       " 'verme',\n",
       " 've',\n",
       " 'proble',\n",
       " 'çözme',\n",
       " 'sağlaya',\n",
       " 'bir',\n",
       " 'bil',\n",
       " 'dalıdır',\n",
       " 'yapay',\n",
       " 'zeka',\n",
       " 'teknolojisi',\n",
       " 'doğal',\n",
       " 'dil',\n",
       " 'işleme',\n",
       " 'ses',\n",
       " 'tanıma',\n",
       " 'gör',\n",
       " 'işleme']"
      ]
     },
     "execution_count": 94,
     "metadata": {},
     "output_type": "execute_result"
    }
   ],
   "source": [
    "df.loc[0,\"Text_2\"]"
   ]
  },
  {
   "cell_type": "code",
   "execution_count": 2,
   "id": "5dec1a97-dce4-442d-9ca9-90d24e6c880c",
   "metadata": {},
   "outputs": [],
   "source": [
    "import on_islem\n",
    "import pandas as pd"
   ]
  },
  {
   "cell_type": "code",
   "execution_count": 5,
   "id": "6bdb2b64-ae24-48fb-88af-f9aacabfe691",
   "metadata": {},
   "outputs": [
    {
     "ename": "FileNotFoundError",
     "evalue": "[Errno 2] No such file or directory: 'data/nlp.csv'",
     "output_type": "error",
     "traceback": [
      "\u001b[1;31m---------------------------------------------------------------------------\u001b[0m",
      "\u001b[1;31mFileNotFoundError\u001b[0m                         Traceback (most recent call last)",
      "Cell \u001b[1;32mIn[5], line 1\u001b[0m\n\u001b[1;32m----> 1\u001b[0m df2\u001b[38;5;241m=\u001b[39m\u001b[43mpd\u001b[49m\u001b[38;5;241;43m.\u001b[39;49m\u001b[43mread_csv\u001b[49m\u001b[43m(\u001b[49m\u001b[38;5;124;43m\"\u001b[39;49m\u001b[38;5;124;43mdata/nlp.csv\u001b[39;49m\u001b[38;5;124;43m\"\u001b[39;49m\u001b[43m,\u001b[49m\u001b[43mindex_col\u001b[49m\u001b[38;5;241;43m=\u001b[39;49m\u001b[38;5;241;43m0\u001b[39;49m\u001b[43m)\u001b[49m\n\u001b[0;32m      2\u001b[0m df2\u001b[38;5;241m.\u001b[39mhead()\n",
      "File \u001b[1;32m~\\miniconda3\\lib\\site-packages\\pandas\\util\\_decorators.py:211\u001b[0m, in \u001b[0;36mdeprecate_kwarg.<locals>._deprecate_kwarg.<locals>.wrapper\u001b[1;34m(*args, **kwargs)\u001b[0m\n\u001b[0;32m    209\u001b[0m     \u001b[38;5;28;01melse\u001b[39;00m:\n\u001b[0;32m    210\u001b[0m         kwargs[new_arg_name] \u001b[38;5;241m=\u001b[39m new_arg_value\n\u001b[1;32m--> 211\u001b[0m \u001b[38;5;28;01mreturn\u001b[39;00m func(\u001b[38;5;241m*\u001b[39margs, \u001b[38;5;241m*\u001b[39m\u001b[38;5;241m*\u001b[39mkwargs)\n",
      "File \u001b[1;32m~\\miniconda3\\lib\\site-packages\\pandas\\util\\_decorators.py:331\u001b[0m, in \u001b[0;36mdeprecate_nonkeyword_arguments.<locals>.decorate.<locals>.wrapper\u001b[1;34m(*args, **kwargs)\u001b[0m\n\u001b[0;32m    325\u001b[0m \u001b[38;5;28;01mif\u001b[39;00m \u001b[38;5;28mlen\u001b[39m(args) \u001b[38;5;241m>\u001b[39m num_allow_args:\n\u001b[0;32m    326\u001b[0m     warnings\u001b[38;5;241m.\u001b[39mwarn(\n\u001b[0;32m    327\u001b[0m         msg\u001b[38;5;241m.\u001b[39mformat(arguments\u001b[38;5;241m=\u001b[39m_format_argument_list(allow_args)),\n\u001b[0;32m    328\u001b[0m         \u001b[38;5;167;01mFutureWarning\u001b[39;00m,\n\u001b[0;32m    329\u001b[0m         stacklevel\u001b[38;5;241m=\u001b[39mfind_stack_level(),\n\u001b[0;32m    330\u001b[0m     )\n\u001b[1;32m--> 331\u001b[0m \u001b[38;5;28;01mreturn\u001b[39;00m func(\u001b[38;5;241m*\u001b[39margs, \u001b[38;5;241m*\u001b[39m\u001b[38;5;241m*\u001b[39mkwargs)\n",
      "File \u001b[1;32m~\\miniconda3\\lib\\site-packages\\pandas\\io\\parsers\\readers.py:950\u001b[0m, in \u001b[0;36mread_csv\u001b[1;34m(filepath_or_buffer, sep, delimiter, header, names, index_col, usecols, squeeze, prefix, mangle_dupe_cols, dtype, engine, converters, true_values, false_values, skipinitialspace, skiprows, skipfooter, nrows, na_values, keep_default_na, na_filter, verbose, skip_blank_lines, parse_dates, infer_datetime_format, keep_date_col, date_parser, dayfirst, cache_dates, iterator, chunksize, compression, thousands, decimal, lineterminator, quotechar, quoting, doublequote, escapechar, comment, encoding, encoding_errors, dialect, error_bad_lines, warn_bad_lines, on_bad_lines, delim_whitespace, low_memory, memory_map, float_precision, storage_options)\u001b[0m\n\u001b[0;32m    935\u001b[0m kwds_defaults \u001b[38;5;241m=\u001b[39m _refine_defaults_read(\n\u001b[0;32m    936\u001b[0m     dialect,\n\u001b[0;32m    937\u001b[0m     delimiter,\n\u001b[1;32m   (...)\u001b[0m\n\u001b[0;32m    946\u001b[0m     defaults\u001b[38;5;241m=\u001b[39m{\u001b[38;5;124m\"\u001b[39m\u001b[38;5;124mdelimiter\u001b[39m\u001b[38;5;124m\"\u001b[39m: \u001b[38;5;124m\"\u001b[39m\u001b[38;5;124m,\u001b[39m\u001b[38;5;124m\"\u001b[39m},\n\u001b[0;32m    947\u001b[0m )\n\u001b[0;32m    948\u001b[0m kwds\u001b[38;5;241m.\u001b[39mupdate(kwds_defaults)\n\u001b[1;32m--> 950\u001b[0m \u001b[38;5;28;01mreturn\u001b[39;00m \u001b[43m_read\u001b[49m\u001b[43m(\u001b[49m\u001b[43mfilepath_or_buffer\u001b[49m\u001b[43m,\u001b[49m\u001b[43m \u001b[49m\u001b[43mkwds\u001b[49m\u001b[43m)\u001b[49m\n",
      "File \u001b[1;32m~\\miniconda3\\lib\\site-packages\\pandas\\io\\parsers\\readers.py:605\u001b[0m, in \u001b[0;36m_read\u001b[1;34m(filepath_or_buffer, kwds)\u001b[0m\n\u001b[0;32m    602\u001b[0m _validate_names(kwds\u001b[38;5;241m.\u001b[39mget(\u001b[38;5;124m\"\u001b[39m\u001b[38;5;124mnames\u001b[39m\u001b[38;5;124m\"\u001b[39m, \u001b[38;5;28;01mNone\u001b[39;00m))\n\u001b[0;32m    604\u001b[0m \u001b[38;5;66;03m# Create the parser.\u001b[39;00m\n\u001b[1;32m--> 605\u001b[0m parser \u001b[38;5;241m=\u001b[39m TextFileReader(filepath_or_buffer, \u001b[38;5;241m*\u001b[39m\u001b[38;5;241m*\u001b[39mkwds)\n\u001b[0;32m    607\u001b[0m \u001b[38;5;28;01mif\u001b[39;00m chunksize \u001b[38;5;129;01mor\u001b[39;00m iterator:\n\u001b[0;32m    608\u001b[0m     \u001b[38;5;28;01mreturn\u001b[39;00m parser\n",
      "File \u001b[1;32m~\\miniconda3\\lib\\site-packages\\pandas\\io\\parsers\\readers.py:1442\u001b[0m, in \u001b[0;36mTextFileReader.__init__\u001b[1;34m(self, f, engine, **kwds)\u001b[0m\n\u001b[0;32m   1439\u001b[0m     \u001b[38;5;28mself\u001b[39m\u001b[38;5;241m.\u001b[39moptions[\u001b[38;5;124m\"\u001b[39m\u001b[38;5;124mhas_index_names\u001b[39m\u001b[38;5;124m\"\u001b[39m] \u001b[38;5;241m=\u001b[39m kwds[\u001b[38;5;124m\"\u001b[39m\u001b[38;5;124mhas_index_names\u001b[39m\u001b[38;5;124m\"\u001b[39m]\n\u001b[0;32m   1441\u001b[0m \u001b[38;5;28mself\u001b[39m\u001b[38;5;241m.\u001b[39mhandles: IOHandles \u001b[38;5;241m|\u001b[39m \u001b[38;5;28;01mNone\u001b[39;00m \u001b[38;5;241m=\u001b[39m \u001b[38;5;28;01mNone\u001b[39;00m\n\u001b[1;32m-> 1442\u001b[0m \u001b[38;5;28mself\u001b[39m\u001b[38;5;241m.\u001b[39m_engine \u001b[38;5;241m=\u001b[39m \u001b[38;5;28;43mself\u001b[39;49m\u001b[38;5;241;43m.\u001b[39;49m\u001b[43m_make_engine\u001b[49m\u001b[43m(\u001b[49m\u001b[43mf\u001b[49m\u001b[43m,\u001b[49m\u001b[43m \u001b[49m\u001b[38;5;28;43mself\u001b[39;49m\u001b[38;5;241;43m.\u001b[39;49m\u001b[43mengine\u001b[49m\u001b[43m)\u001b[49m\n",
      "File \u001b[1;32m~\\miniconda3\\lib\\site-packages\\pandas\\io\\parsers\\readers.py:1735\u001b[0m, in \u001b[0;36mTextFileReader._make_engine\u001b[1;34m(self, f, engine)\u001b[0m\n\u001b[0;32m   1733\u001b[0m     \u001b[38;5;28;01mif\u001b[39;00m \u001b[38;5;124m\"\u001b[39m\u001b[38;5;124mb\u001b[39m\u001b[38;5;124m\"\u001b[39m \u001b[38;5;129;01mnot\u001b[39;00m \u001b[38;5;129;01min\u001b[39;00m mode:\n\u001b[0;32m   1734\u001b[0m         mode \u001b[38;5;241m+\u001b[39m\u001b[38;5;241m=\u001b[39m \u001b[38;5;124m\"\u001b[39m\u001b[38;5;124mb\u001b[39m\u001b[38;5;124m\"\u001b[39m\n\u001b[1;32m-> 1735\u001b[0m \u001b[38;5;28mself\u001b[39m\u001b[38;5;241m.\u001b[39mhandles \u001b[38;5;241m=\u001b[39m \u001b[43mget_handle\u001b[49m\u001b[43m(\u001b[49m\n\u001b[0;32m   1736\u001b[0m \u001b[43m    \u001b[49m\u001b[43mf\u001b[49m\u001b[43m,\u001b[49m\n\u001b[0;32m   1737\u001b[0m \u001b[43m    \u001b[49m\u001b[43mmode\u001b[49m\u001b[43m,\u001b[49m\n\u001b[0;32m   1738\u001b[0m \u001b[43m    \u001b[49m\u001b[43mencoding\u001b[49m\u001b[38;5;241;43m=\u001b[39;49m\u001b[38;5;28;43mself\u001b[39;49m\u001b[38;5;241;43m.\u001b[39;49m\u001b[43moptions\u001b[49m\u001b[38;5;241;43m.\u001b[39;49m\u001b[43mget\u001b[49m\u001b[43m(\u001b[49m\u001b[38;5;124;43m\"\u001b[39;49m\u001b[38;5;124;43mencoding\u001b[39;49m\u001b[38;5;124;43m\"\u001b[39;49m\u001b[43m,\u001b[49m\u001b[43m \u001b[49m\u001b[38;5;28;43;01mNone\u001b[39;49;00m\u001b[43m)\u001b[49m\u001b[43m,\u001b[49m\n\u001b[0;32m   1739\u001b[0m \u001b[43m    \u001b[49m\u001b[43mcompression\u001b[49m\u001b[38;5;241;43m=\u001b[39;49m\u001b[38;5;28;43mself\u001b[39;49m\u001b[38;5;241;43m.\u001b[39;49m\u001b[43moptions\u001b[49m\u001b[38;5;241;43m.\u001b[39;49m\u001b[43mget\u001b[49m\u001b[43m(\u001b[49m\u001b[38;5;124;43m\"\u001b[39;49m\u001b[38;5;124;43mcompression\u001b[39;49m\u001b[38;5;124;43m\"\u001b[39;49m\u001b[43m,\u001b[49m\u001b[43m \u001b[49m\u001b[38;5;28;43;01mNone\u001b[39;49;00m\u001b[43m)\u001b[49m\u001b[43m,\u001b[49m\n\u001b[0;32m   1740\u001b[0m \u001b[43m    \u001b[49m\u001b[43mmemory_map\u001b[49m\u001b[38;5;241;43m=\u001b[39;49m\u001b[38;5;28;43mself\u001b[39;49m\u001b[38;5;241;43m.\u001b[39;49m\u001b[43moptions\u001b[49m\u001b[38;5;241;43m.\u001b[39;49m\u001b[43mget\u001b[49m\u001b[43m(\u001b[49m\u001b[38;5;124;43m\"\u001b[39;49m\u001b[38;5;124;43mmemory_map\u001b[39;49m\u001b[38;5;124;43m\"\u001b[39;49m\u001b[43m,\u001b[49m\u001b[43m \u001b[49m\u001b[38;5;28;43;01mFalse\u001b[39;49;00m\u001b[43m)\u001b[49m\u001b[43m,\u001b[49m\n\u001b[0;32m   1741\u001b[0m \u001b[43m    \u001b[49m\u001b[43mis_text\u001b[49m\u001b[38;5;241;43m=\u001b[39;49m\u001b[43mis_text\u001b[49m\u001b[43m,\u001b[49m\n\u001b[0;32m   1742\u001b[0m \u001b[43m    \u001b[49m\u001b[43merrors\u001b[49m\u001b[38;5;241;43m=\u001b[39;49m\u001b[38;5;28;43mself\u001b[39;49m\u001b[38;5;241;43m.\u001b[39;49m\u001b[43moptions\u001b[49m\u001b[38;5;241;43m.\u001b[39;49m\u001b[43mget\u001b[49m\u001b[43m(\u001b[49m\u001b[38;5;124;43m\"\u001b[39;49m\u001b[38;5;124;43mencoding_errors\u001b[39;49m\u001b[38;5;124;43m\"\u001b[39;49m\u001b[43m,\u001b[49m\u001b[43m \u001b[49m\u001b[38;5;124;43m\"\u001b[39;49m\u001b[38;5;124;43mstrict\u001b[39;49m\u001b[38;5;124;43m\"\u001b[39;49m\u001b[43m)\u001b[49m\u001b[43m,\u001b[49m\n\u001b[0;32m   1743\u001b[0m \u001b[43m    \u001b[49m\u001b[43mstorage_options\u001b[49m\u001b[38;5;241;43m=\u001b[39;49m\u001b[38;5;28;43mself\u001b[39;49m\u001b[38;5;241;43m.\u001b[39;49m\u001b[43moptions\u001b[49m\u001b[38;5;241;43m.\u001b[39;49m\u001b[43mget\u001b[49m\u001b[43m(\u001b[49m\u001b[38;5;124;43m\"\u001b[39;49m\u001b[38;5;124;43mstorage_options\u001b[39;49m\u001b[38;5;124;43m\"\u001b[39;49m\u001b[43m,\u001b[49m\u001b[43m \u001b[49m\u001b[38;5;28;43;01mNone\u001b[39;49;00m\u001b[43m)\u001b[49m\u001b[43m,\u001b[49m\n\u001b[0;32m   1744\u001b[0m \u001b[43m\u001b[49m\u001b[43m)\u001b[49m\n\u001b[0;32m   1745\u001b[0m \u001b[38;5;28;01massert\u001b[39;00m \u001b[38;5;28mself\u001b[39m\u001b[38;5;241m.\u001b[39mhandles \u001b[38;5;129;01mis\u001b[39;00m \u001b[38;5;129;01mnot\u001b[39;00m \u001b[38;5;28;01mNone\u001b[39;00m\n\u001b[0;32m   1746\u001b[0m f \u001b[38;5;241m=\u001b[39m \u001b[38;5;28mself\u001b[39m\u001b[38;5;241m.\u001b[39mhandles\u001b[38;5;241m.\u001b[39mhandle\n",
      "File \u001b[1;32m~\\miniconda3\\lib\\site-packages\\pandas\\io\\common.py:856\u001b[0m, in \u001b[0;36mget_handle\u001b[1;34m(path_or_buf, mode, encoding, compression, memory_map, is_text, errors, storage_options)\u001b[0m\n\u001b[0;32m    851\u001b[0m \u001b[38;5;28;01melif\u001b[39;00m \u001b[38;5;28misinstance\u001b[39m(handle, \u001b[38;5;28mstr\u001b[39m):\n\u001b[0;32m    852\u001b[0m     \u001b[38;5;66;03m# Check whether the filename is to be opened in binary mode.\u001b[39;00m\n\u001b[0;32m    853\u001b[0m     \u001b[38;5;66;03m# Binary mode does not support 'encoding' and 'newline'.\u001b[39;00m\n\u001b[0;32m    854\u001b[0m     \u001b[38;5;28;01mif\u001b[39;00m ioargs\u001b[38;5;241m.\u001b[39mencoding \u001b[38;5;129;01mand\u001b[39;00m \u001b[38;5;124m\"\u001b[39m\u001b[38;5;124mb\u001b[39m\u001b[38;5;124m\"\u001b[39m \u001b[38;5;129;01mnot\u001b[39;00m \u001b[38;5;129;01min\u001b[39;00m ioargs\u001b[38;5;241m.\u001b[39mmode:\n\u001b[0;32m    855\u001b[0m         \u001b[38;5;66;03m# Encoding\u001b[39;00m\n\u001b[1;32m--> 856\u001b[0m         handle \u001b[38;5;241m=\u001b[39m \u001b[38;5;28;43mopen\u001b[39;49m\u001b[43m(\u001b[49m\n\u001b[0;32m    857\u001b[0m \u001b[43m            \u001b[49m\u001b[43mhandle\u001b[49m\u001b[43m,\u001b[49m\n\u001b[0;32m    858\u001b[0m \u001b[43m            \u001b[49m\u001b[43mioargs\u001b[49m\u001b[38;5;241;43m.\u001b[39;49m\u001b[43mmode\u001b[49m\u001b[43m,\u001b[49m\n\u001b[0;32m    859\u001b[0m \u001b[43m            \u001b[49m\u001b[43mencoding\u001b[49m\u001b[38;5;241;43m=\u001b[39;49m\u001b[43mioargs\u001b[49m\u001b[38;5;241;43m.\u001b[39;49m\u001b[43mencoding\u001b[49m\u001b[43m,\u001b[49m\n\u001b[0;32m    860\u001b[0m \u001b[43m            \u001b[49m\u001b[43merrors\u001b[49m\u001b[38;5;241;43m=\u001b[39;49m\u001b[43merrors\u001b[49m\u001b[43m,\u001b[49m\n\u001b[0;32m    861\u001b[0m \u001b[43m            \u001b[49m\u001b[43mnewline\u001b[49m\u001b[38;5;241;43m=\u001b[39;49m\u001b[38;5;124;43m\"\u001b[39;49m\u001b[38;5;124;43m\"\u001b[39;49m\u001b[43m,\u001b[49m\n\u001b[0;32m    862\u001b[0m \u001b[43m        \u001b[49m\u001b[43m)\u001b[49m\n\u001b[0;32m    863\u001b[0m     \u001b[38;5;28;01melse\u001b[39;00m:\n\u001b[0;32m    864\u001b[0m         \u001b[38;5;66;03m# Binary mode\u001b[39;00m\n\u001b[0;32m    865\u001b[0m         handle \u001b[38;5;241m=\u001b[39m \u001b[38;5;28mopen\u001b[39m(handle, ioargs\u001b[38;5;241m.\u001b[39mmode)\n",
      "\u001b[1;31mFileNotFoundError\u001b[0m: [Errno 2] No such file or directory: 'data/nlp.csv'"
     ]
    }
   ],
   "source": [
    "df2=pd.read_csv(\"data/nlp.csv\",index_col=0)\n",
    "df2.head()"
   ]
  },
  {
   "cell_type": "code",
   "execution_count": null,
   "id": "481c24ae-b6c9-4b3b-8530-57e0e346d6af",
   "metadata": {},
   "outputs": [],
   "source": []
  }
 ],
 "metadata": {
  "kernelspec": {
   "display_name": "Python 3 (ipykernel)",
   "language": "python",
   "name": "python3"
  },
  "language_info": {
   "codemirror_mode": {
    "name": "ipython",
    "version": 3
   },
   "file_extension": ".py",
   "mimetype": "text/x-python",
   "name": "python",
   "nbconvert_exporter": "python",
   "pygments_lexer": "ipython3",
   "version": "3.10.10"
  }
 },
 "nbformat": 4,
 "nbformat_minor": 5
}
